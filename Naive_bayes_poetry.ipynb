{
  "nbformat": 4,
  "nbformat_minor": 0,
  "metadata": {
    "colab": {
      "provenance": [],
      "authorship_tag": "ABX9TyMawYy1XIWngz4iPfBUgk/l",
      "include_colab_link": true
    },
    "kernelspec": {
      "name": "python3",
      "display_name": "Python 3"
    },
    "language_info": {
      "name": "python"
    }
  },
  "cells": [
    {
      "cell_type": "markdown",
      "metadata": {
        "id": "view-in-github",
        "colab_type": "text"
      },
      "source": [
        "<a href=\"https://colab.research.google.com/github/Bao3333/MachineLearning/blob/main/Naive_bayes_poetry.ipynb\" target=\"_parent\"><img src=\"https://colab.research.google.com/assets/colab-badge.svg\" alt=\"Open In Colab\"/></a>"
      ]
    },
    {
      "cell_type": "code",
      "source": [
        "from urllib.request import urlretrieve\n",
        "url = \"https://github.com/Elwing-Chou/tibaml0826/raw/main/poem_test.csv\"\n",
        "urlretrieve(url, \"test.csv\")\n",
        "url = \"https://github.com/Elwing-Chou/tibaml0826/raw/main/poem_train.csv\"\n",
        "urlretrieve(url, \"train.csv\")"
      ],
      "metadata": {
        "colab": {
          "base_uri": "https://localhost:8080/"
        },
        "id": "n1UlEnLgPes0",
        "outputId": "a424cd74-b74a-439d-9e4c-4009f408e1d0"
      },
      "execution_count": null,
      "outputs": [
        {
          "output_type": "execute_result",
          "data": {
            "text/plain": [
              "('train.csv', <http.client.HTTPMessage at 0x7f82c6cdf3d0>)"
            ]
          },
          "metadata": {},
          "execution_count": 1
        }
      ]
    },
    {
      "cell_type": "code",
      "source": [
        "import pandas as pd\n",
        "train_df = pd.read_csv(\"train.csv\", encoding=\"utf-8\")\n",
        "test_df = pd.read_csv(\"test.csv\", encoding=\"utf-8\")\n"
      ],
      "metadata": {
        "id": "-icv1YriP_Ti"
      },
      "execution_count": null,
      "outputs": []
    },
    {
      "cell_type": "code",
      "source": [
        "\"\"\"\n",
        "凡事皆物件: 所有東西都是具有型態(Type)\n",
        "字典: dic  操作: [key]\n",
        "函式你也要把它分開\n",
        "函式型態: print           操作: (3+2)\n",
        "    : 還沒打開的錦囊(步驟集合)  操作: 打開執行\n",
        "\"\"\""
      ],
      "metadata": {
        "id": "QPlCYtMQQl1f"
      },
      "execution_count": null,
      "outputs": []
    },
    {
      "cell_type": "code",
      "source": [
        "# example1\n",
        "b = int\n",
        "b(4.2)"
      ],
      "metadata": {
        "id": "xxVTse3AZUxD",
        "colab": {
          "base_uri": "https://localhost:8080/"
        },
        "outputId": "70c1d965-4dd8-4301-b5eb-e4160272e5be"
      },
      "execution_count": null,
      "outputs": [
        {
          "output_type": "execute_result",
          "data": {
            "text/plain": [
              "4"
            ]
          },
          "metadata": {},
          "execution_count": 3
        }
      ]
    },
    {
      "cell_type": "code",
      "source": [
        "# example2\n",
        "def test(n):\n",
        "    if n == 0:\n",
        "        return int\n",
        "    else:\n",
        "        return round\n",
        "test(1)(4.24223, 3)"
      ],
      "metadata": {
        "id": "72arp3GaZVF8",
        "colab": {
          "base_uri": "https://localhost:8080/"
        },
        "outputId": "92ca7a18-7b7c-4ca0-db3e-a7c1dccfd6d1"
      },
      "execution_count": null,
      "outputs": [
        {
          "output_type": "execute_result",
          "data": {
            "text/plain": [
              "4.242"
            ]
          },
          "metadata": {},
          "execution_count": 10
        }
      ]
    },
    {
      "cell_type": "code",
      "source": [
        "# example3-1\n",
        "l = [-3, 2, 1, 4]\n",
        "sorted(l, key=abs)"
      ],
      "metadata": {
        "id": "cEKxpc6qZVKq",
        "colab": {
          "base_uri": "https://localhost:8080/"
        },
        "outputId": "d5da451b-df9d-41b0-8624-8ad6e1c9619b"
      },
      "execution_count": null,
      "outputs": [
        {
          "output_type": "execute_result",
          "data": {
            "text/plain": [
              "[4, -3, 2, 1]"
            ]
          },
          "metadata": {},
          "execution_count": 15
        }
      ]
    },
    {
      "cell_type": "code",
      "source": [
        "# example3-2\n",
        "students = [\n",
        "    (170, 80),\n",
        "    (180, 85),\n",
        "    (180, 70)\n",
        "]\n",
        "def trans(s):\n",
        "    return s[0]\n",
        "# 身高小到大, 體重維持原本排序\n",
        "sorted(students, key=lambda s:s[0])\n",
        "# 平常的sorted\n",
        "sorted(students, key=lambda s:(s[0], s[1]))\n",
        "# 身高小到大, 體重大到小\n",
        "sorted(students, key=lambda s:(s[0], -s[1]))"
      ],
      "metadata": {
        "id": "pGvuirqmZmEM"
      },
      "execution_count": null,
      "outputs": []
    },
    {
      "cell_type": "code",
      "source": [
        "import jieba\n",
        "def poemcut(p):\n",
        "  return \" \".join(jieba.cut(p))\n",
        "\n",
        "# series的apply是把函式套到每個指定的series裡\n",
        "x_train = train_df[\"內容\"].apply(poemcut)\n",
        "x_test = test_df[\"內容\"].apply(poemcut)"
      ],
      "metadata": {
        "id": "AqYVEcnKdONy"
      },
      "execution_count": null,
      "outputs": []
    },
    {
      "cell_type": "code",
      "source": [
        "# 處理答案 -> 帶到skiearn中的都要是數字\n",
        "# Series.unique()/Series.value_counts()\n",
        "train_df[\"作者\"].value_counts() # <- 計算不同值得各個數量\n",
        "poets = train_df[\"作者\"].unique() # <- 計算總共有幾個不同的值\n",
        "\n",
        "poets2idx = {p:i for i, p in enumerate(poets)} # 語法可見下方示範\n",
        "idx2poets = {i:p for i, p in enumerate(poets)}\n",
        "\n",
        "#                            ↓以dict中的key以value取代\n",
        "y_train = train_df[\"作者\"].replace(poets2idx)\n",
        "y_test = test_df[\"作者\"].replace(poets2idx)\n",
        "y_test"
      ],
      "metadata": {
        "id": "KFB58c9KgNHP",
        "colab": {
          "base_uri": "https://localhost:8080/"
        },
        "outputId": "b233badd-32be-4ecc-cbb0-ddc0c6e24c35"
      },
      "execution_count": null,
      "outputs": [
        {
          "output_type": "execute_result",
          "data": {
            "text/plain": [
              "0     0\n",
              "1     0\n",
              "2     0\n",
              "3     0\n",
              "4     0\n",
              "5     0\n",
              "6     0\n",
              "7     0\n",
              "8     0\n",
              "9     0\n",
              "10    1\n",
              "11    1\n",
              "12    1\n",
              "13    1\n",
              "14    1\n",
              "15    1\n",
              "16    1\n",
              "17    1\n",
              "18    1\n",
              "19    1\n",
              "20    2\n",
              "21    2\n",
              "22    2\n",
              "23    2\n",
              "24    2\n",
              "25    2\n",
              "26    2\n",
              "27    2\n",
              "28    2\n",
              "29    2\n",
              "Name: 作者, dtype: int64"
            ]
          },
          "metadata": {},
          "execution_count": 22
        }
      ]
    },
    {
      "cell_type": "code",
      "source": [
        "# 語法示範1\n",
        "ans = []\n",
        "for i in range(3):\n",
        "    ans.append(i ** 2)\n",
        "\n",
        "ans2 = [i ** 2 for i in range(3)]\n",
        "ans2"
      ],
      "metadata": {
        "id": "2170Tp_1jFAM",
        "colab": {
          "base_uri": "https://localhost:8080/"
        },
        "outputId": "115b864e-c243-4fdd-f93f-8c0ac27d9f99"
      },
      "execution_count": null,
      "outputs": [
        {
          "output_type": "stream",
          "name": "stdout",
          "text": [
            "[0, 1, 4]\n"
          ]
        },
        {
          "output_type": "execute_result",
          "data": {
            "text/plain": [
              "[0, 1, 4]"
            ]
          },
          "metadata": {},
          "execution_count": 23
        }
      ]
    },
    {
      "cell_type": "code",
      "source": [
        "# 語法示範2\n",
        "poets = [\"李白\", \"杜甫\", \"白居易\"]\n",
        "ans = {}\n",
        "# enumerate可產生list中的資料以及其對應的索引\n",
        "for i, p in enumerate(poets):\n",
        "  ans[p] = i\n",
        "ans\n",
        "\n",
        "ans2 = {p:i for i, p in enumerate(poets)}\n",
        "print(ans)\n",
        "print(ans2)\n",
        "\n",
        "# 回上上格"
      ],
      "metadata": {
        "id": "Bh15lxiCjOhE"
      },
      "execution_count": null,
      "outputs": []
    },
    {
      "cell_type": "code",
      "source": [
        "from sklearn.feature_extraction.text import CountVectorizer\n",
        "vec = CountVectorizer()\n",
        "\n",
        "# 利用x_train的資料去訓練有哪些詞(x_test也是用這些詞彙不另外訓練)\n",
        "vec.fit(x_train)\n",
        "vec.vocabulary_"
      ],
      "metadata": {
        "id": "j-Llra0GnsEL"
      },
      "execution_count": null,
      "outputs": []
    },
    {
      "cell_type": "code",
      "source": [
        "# 再把訓練好的vec拿來統計x_train和x_test出現的詞數量\n",
        "x_train_count = vec.transform(x_train)\n",
        "x_test_count = vec.transform(x_test)\n",
        "\n",
        "# 呈現的形式會是一個Sparse metric稀疏矩陣,此舉陣型是會把值是0的欄位給忽略,以免檔案過大\n",
        "x_train_count"
      ],
      "metadata": {
        "colab": {
          "base_uri": "https://localhost:8080/"
        },
        "id": "etIHNDWbkqC1",
        "outputId": "0964529f-55de-4e41-aebd-adf5e519e8a9"
      },
      "execution_count": null,
      "outputs": [
        {
          "output_type": "execute_result",
          "data": {
            "text/plain": [
              "<2731x52294 sparse matrix of type '<class 'numpy.int64'>'\n",
              "\twith 85677 stored elements in Compressed Sparse Row format>"
            ]
          },
          "metadata": {},
          "execution_count": 32
        }
      ]
    },
    {
      "cell_type": "code",
      "source": [
        "# check一下 。 \\r\\n 等標點符號有沒有被算進去\n",
        "# vec.vocabulary_[\"。\"] "
      ],
      "metadata": {
        "id": "3F8MSpCTuLwz"
      },
      "execution_count": null,
      "outputs": []
    },
    {
      "cell_type": "code",
      "source": [
        "from sklearn.naive_bayes import MultinomialNB\n",
        "#                     ↓此係數用來作機率的平滑化smoothing,避免0%、100%的出現,透過調整保底的大小來修正準確率\n",
        "clf = MultinomialNB(alpha=0.25)\n",
        "clf.fit(x_train_count, y_train)"
      ],
      "metadata": {
        "colab": {
          "base_uri": "https://localhost:8080/"
        },
        "id": "i-ssV2MkxgSQ",
        "outputId": "548eed1a-720b-4263-b2f6-869ffb4c91e6"
      },
      "execution_count": null,
      "outputs": [
        {
          "output_type": "execute_result",
          "data": {
            "text/plain": [
              "MultinomialNB(alpha=0.25)"
            ]
          },
          "metadata": {},
          "execution_count": 39
        }
      ]
    },
    {
      "cell_type": "code",
      "source": [
        "from sklearn.metrics import accuracy_score\n",
        "pre = clf.predict(x_test_count)\n",
        "accuracy_score(y_test, pre)"
      ],
      "metadata": {
        "colab": {
          "base_uri": "https://localhost:8080/"
        },
        "id": "WU1gtGaSx7tg",
        "outputId": "2bd692ab-f6a1-4976-9d71-39370a1919d8"
      },
      "execution_count": null,
      "outputs": [
        {
          "output_type": "execute_result",
          "data": {
            "text/plain": [
              "0.8666666666666667"
            ]
          },
          "metadata": {},
          "execution_count": 41
        }
      ]
    },
    {
      "cell_type": "code",
      "source": [
        "p = input(\"請輸入一首詩：\")\n",
        "print(poemcut(p))\n",
        "pcount = vec.transform([poemcut(p)])\n",
        "probs = clf.predict_proba(pcount)[0]\n",
        "print(probs)\n",
        "for result in zip (poets, probs):\n",
        "  print(result)"
      ],
      "metadata": {
        "colab": {
          "base_uri": "https://localhost:8080/"
        },
        "id": "ahC7zr0wjb_n",
        "outputId": "a4ee2f3e-46de-4f15-8789-475441a05b8c"
      },
      "execution_count": null,
      "outputs": [
        {
          "output_type": "stream",
          "name": "stdout",
          "text": [
            "請輸入一首詩：城上歸時晚，庭前宿處危。月明無葉樹，霜滑有風枝。 啼澀飢喉咽，飛低凍翅垂。畫堂鸚鵡鳥，冷暖不相知。\n",
            "城上 歸時 晚 ， 庭前 宿處 危 。 月 明無葉樹 ， 霜 滑 有 風枝 。   啼澀 飢喉 咽 ， 飛低 凍 翅 垂 。 畫堂 鸚鵡 鳥 ， 冷暖 不 相知 。\n",
            "[0.80917568 0.02115679 0.16966753]\n",
            "('李白', 0.8091756805152162)\n",
            "('杜甫', 0.021156792692373923)\n",
            "('白居易', 0.16966752679240757)\n"
          ]
        }
      ]
    }
  ]
}