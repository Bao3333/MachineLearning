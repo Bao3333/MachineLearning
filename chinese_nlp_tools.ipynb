{
  "nbformat": 4,
  "nbformat_minor": 0,
  "metadata": {
    "colab": {
      "name": "chinese_nlp_tools.ipynb",
      "provenance": [],
      "authorship_tag": "ABX9TyPaa0A+9oVuP5Z3huBoxqXc",
      "include_colab_link": true
    },
    "kernelspec": {
      "name": "python3",
      "display_name": "Python 3"
    },
    "language_info": {
      "name": "python"
    }
  },
  "cells": [
    {
      "cell_type": "markdown",
      "metadata": {
        "id": "view-in-github",
        "colab_type": "text"
      },
      "source": [
        "<a href=\"https://colab.research.google.com/github/Bao3333/MachineLearning/blob/main/chinese_nlp_tools.ipynb\" target=\"_parent\"><img src=\"https://colab.research.google.com/assets/colab-badge.svg\" alt=\"Open In Colab\"/></a>"
      ]
    },
    {
      "cell_type": "code",
      "execution_count": null,
      "metadata": {
        "colab": {
          "base_uri": "https://localhost:8080/"
        },
        "id": "WE5Y2mfZIvE9",
        "outputId": "47636656-c0a2-4d03-dfce-b4d7ce071230"
      },
      "outputs": [
        {
          "output_type": "stream",
          "name": "stdout",
          "text": [
            "Looking in indexes: https://pypi.org/simple, https://us-python.pkg.dev/colab-wheels/public/simple/\n",
            "Collecting opencc-python-reimplemented\n",
            "  Downloading opencc-python-reimplemented-0.1.6.tar.gz (484 kB)\n",
            "\u001b[K     |████████████████████████████████| 484 kB 12.3 MB/s \n",
            "\u001b[?25hBuilding wheels for collected packages: opencc-python-reimplemented\n",
            "  Building wheel for opencc-python-reimplemented (setup.py) ... \u001b[?25l\u001b[?25hdone\n",
            "  Created wheel for opencc-python-reimplemented: filename=opencc_python_reimplemented-0.1.6-py2.py3-none-any.whl size=486152 sha256=8433abe78e159ff1bc7c9f9ed20d5109a3c2f8d976f89a93e6441470533a68da\n",
            "  Stored in directory: /root/.cache/pip/wheels/4e/e2/60/d062d260be08788bb389521544a8fc173de9a9a78d6a593344\n",
            "Successfully built opencc-python-reimplemented\n",
            "Installing collected packages: opencc-python-reimplemented\n",
            "Successfully installed opencc-python-reimplemented-0.1.6\n"
          ]
        }
      ],
      "source": [
        "# 繁體簡體字轉換\n",
        "\n",
        "!pip install opencc-python-reimplemented"
      ]
    },
    {
      "cell_type": "code",
      "source": [
        "to_convert = \"\"\"繁体中文。\n",
        "为什么会觉得烦呢？也许让我们学写繁体中文的话，我们可能会烦。\n",
        "主要看所处的环境。\n",
        "如果楼主从一出生就学的是繁体中文的话，现在让你学写简体中文，你也会烦的。如果一个英语为母语的国家，让他们的人民学中文，不管是繁体还是简体都会烦。\n",
        "要你用你的纯母语来书写，应该是最顺手的吧\"\"\"\n",
        "\n",
        "from opencc import OpenCC\n",
        "# ↓可選擇各種轉換形式\n",
        "cc = OpenCC(\"s2tw\")\n",
        "converted = cc.convert(to_convert)\n",
        "converted"
      ],
      "metadata": {
        "id": "br3Hx2t7Lf-k"
      },
      "execution_count": null,
      "outputs": []
    },
    {
      "cell_type": "code",
      "source": [
        "import jieba\n",
        "from urllib.request import urlretrieve\n",
        "\n",
        "url = \"https://github.com/fxsjy/jieba/raw/master/extra_dict/dict.txt.big\"\n",
        "# ↓用urlretrieve將網址的東西下載到本地端\n",
        "urlretrieve(url, \"dict.txt.big\")\n",
        "# ↓再用jieba讀取此字典作為分詞依據\n",
        "jieba.set_dictionary(\"dict.txt.big\")\n",
        "# ↓讀取使用者自定義字典\n",
        "jieba.load_userdict(\"dict_my.txt\")\n",
        "\n",
        "\n",
        "with open(\"news.txt\", \"r\", encoding=\"utf-8\") as f:\n",
        "  content = f.read()\n",
        "  res = \" \".join(jieba.cut(content))\n",
        "res"
      ],
      "metadata": {
        "id": "7wnuhgQqRDqL"
      },
      "execution_count": null,
      "outputs": []
    },
    {
      "cell_type": "code",
      "source": [
        "# 抓出關鍵詞\n",
        "import jieba.analyse\n",
        "\n",
        "#                                    ↓欲顯示關鍵詞數量 ↓顯示tf-idf分數\n",
        "jieba.analyse.extract_tags(content, topK=5, withWeight=True)\n",
        "#                                    ↓篩選關鍵詞的詞性\n",
        "jieba.analyse.extract_tags(content, allowPOS=[\"nz\", \"nr\", \"ns\"])"
      ],
      "metadata": {
        "colab": {
          "base_uri": "https://localhost:8080/"
        },
        "id": "Y6WTrYTtWfgM",
        "outputId": "83144f6f-0a9c-48e5-fd73-9ecd2216893b"
      },
      "execution_count": null,
      "outputs": [
        {
          "output_type": "execute_result",
          "data": {
            "text/plain": [
              "['鹹蛋', '易經', '臉書', '新鮮', '嚴重者', '蘇州', '拜拜', '冰淇淋', '祖先']"
            ]
          },
          "metadata": {},
          "execution_count": 15
        }
      ]
    }
  ]
}