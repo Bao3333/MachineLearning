{
  "nbformat": 4,
  "nbformat_minor": 0,
  "metadata": {
    "colab": {
      "provenance": [],
      "authorship_tag": "ABX9TyNz0oh6U8+r9nDy3UPMzVII",
      "include_colab_link": true
    },
    "kernelspec": {
      "name": "python3",
      "display_name": "Python 3"
    },
    "language_info": {
      "name": "python"
    }
  },
  "cells": [
    {
      "cell_type": "markdown",
      "metadata": {
        "id": "view-in-github",
        "colab_type": "text"
      },
      "source": [
        "<a href=\"https://colab.research.google.com/github/Bao3333/MachineLearning/blob/main/Titanic.ipynb\" target=\"_parent\"><img src=\"https://colab.research.google.com/assets/colab-badge.svg\" alt=\"Open In Colab\"/></a>"
      ]
    },
    {
      "cell_type": "code",
      "execution_count": null,
      "metadata": {
        "colab": {
          "base_uri": "https://localhost:8080/"
        },
        "id": "Y2kxGrgZoyJC",
        "outputId": "af4fdffc-9038-48c1-f009-cdf79049635d"
      },
      "outputs": [
        {
          "output_type": "execute_result",
          "data": {
            "text/plain": [
              "('train.csv', <http.client.HTTPMessage at 0x7f8876cb9050>)"
            ]
          },
          "metadata": {},
          "execution_count": 77
        }
      ],
      "source": [
        "from urllib.request import urlretrieve\n",
        "url = \"https://github.com/Elwing-Chou/tibaml0826/raw/main/titanic/test.csv\"\n",
        "urlretrieve(url, \"test.csv\")\n",
        "url = \"https://github.com/Elwing-Chou/tibaml0826/raw/main/titanic/train.csv\"\n",
        "urlretrieve(url, \"train.csv\")"
      ]
    },
    {
      "cell_type": "code",
      "source": [
        "import pandas as pd\n",
        "datas = pd.read_csv(\"train.csv\", encoding=\"utf-8\")\n",
        "predict = pd.read_csv(\"test.csv\", encoding=\"utf-8\")"
      ],
      "metadata": {
        "id": "dm9QcNyrpnCM"
      },
      "execution_count": null,
      "outputs": []
    },
    {
      "cell_type": "code",
      "source": [
        "# 合併在一起一起做,之後再分開\n",
        "combine = pd.concat([datas, predict], axis = 0, ignore_index=True)\n",
        "combine = combine.drop([\"PassengerId\", \"Survived\"], axis=1)\n",
        "combine"
      ],
      "metadata": {
        "id": "rchWgdhOqJKV",
        "colab": {
          "base_uri": "https://localhost:8080/",
          "height": 424
        },
        "outputId": "b0bfe045-291b-46a6-8fd9-0b3c7994ab64"
      },
      "execution_count": null,
      "outputs": [
        {
          "output_type": "execute_result",
          "data": {
            "text/plain": [
              "      Pclass                                               Name     Sex   Age  \\\n",
              "0          3                            Braund, Mr. Owen Harris    male  22.0   \n",
              "1          1  Cumings, Mrs. John Bradley (Florence Briggs Th...  female  38.0   \n",
              "2          3                             Heikkinen, Miss. Laina  female  26.0   \n",
              "3          1       Futrelle, Mrs. Jacques Heath (Lily May Peel)  female  35.0   \n",
              "4          3                           Allen, Mr. William Henry    male  35.0   \n",
              "...      ...                                                ...     ...   ...   \n",
              "1304       3                                 Spector, Mr. Woolf    male   NaN   \n",
              "1305       1                       Oliva y Ocana, Dona. Fermina  female  39.0   \n",
              "1306       3                       Saether, Mr. Simon Sivertsen    male  38.5   \n",
              "1307       3                                Ware, Mr. Frederick    male   NaN   \n",
              "1308       3                           Peter, Master. Michael J    male   NaN   \n",
              "\n",
              "      SibSp  Parch              Ticket      Fare Cabin Embarked  \n",
              "0         1      0           A/5 21171    7.2500   NaN        S  \n",
              "1         1      0            PC 17599   71.2833   C85        C  \n",
              "2         0      0    STON/O2. 3101282    7.9250   NaN        S  \n",
              "3         1      0              113803   53.1000  C123        S  \n",
              "4         0      0              373450    8.0500   NaN        S  \n",
              "...     ...    ...                 ...       ...   ...      ...  \n",
              "1304      0      0           A.5. 3236    8.0500   NaN        S  \n",
              "1305      0      0            PC 17758  108.9000  C105        C  \n",
              "1306      0      0  SOTON/O.Q. 3101262    7.2500   NaN        S  \n",
              "1307      0      0              359309    8.0500   NaN        S  \n",
              "1308      1      1                2668   22.3583   NaN        C  \n",
              "\n",
              "[1309 rows x 10 columns]"
            ],
            "text/html": [
              "\n",
              "  <div id=\"df-8f5f9239-46ee-40d9-bd1d-9dadf47cdf3a\">\n",
              "    <div class=\"colab-df-container\">\n",
              "      <div>\n",
              "<style scoped>\n",
              "    .dataframe tbody tr th:only-of-type {\n",
              "        vertical-align: middle;\n",
              "    }\n",
              "\n",
              "    .dataframe tbody tr th {\n",
              "        vertical-align: top;\n",
              "    }\n",
              "\n",
              "    .dataframe thead th {\n",
              "        text-align: right;\n",
              "    }\n",
              "</style>\n",
              "<table border=\"1\" class=\"dataframe\">\n",
              "  <thead>\n",
              "    <tr style=\"text-align: right;\">\n",
              "      <th></th>\n",
              "      <th>Pclass</th>\n",
              "      <th>Name</th>\n",
              "      <th>Sex</th>\n",
              "      <th>Age</th>\n",
              "      <th>SibSp</th>\n",
              "      <th>Parch</th>\n",
              "      <th>Ticket</th>\n",
              "      <th>Fare</th>\n",
              "      <th>Cabin</th>\n",
              "      <th>Embarked</th>\n",
              "    </tr>\n",
              "  </thead>\n",
              "  <tbody>\n",
              "    <tr>\n",
              "      <th>0</th>\n",
              "      <td>3</td>\n",
              "      <td>Braund, Mr. Owen Harris</td>\n",
              "      <td>male</td>\n",
              "      <td>22.0</td>\n",
              "      <td>1</td>\n",
              "      <td>0</td>\n",
              "      <td>A/5 21171</td>\n",
              "      <td>7.2500</td>\n",
              "      <td>NaN</td>\n",
              "      <td>S</td>\n",
              "    </tr>\n",
              "    <tr>\n",
              "      <th>1</th>\n",
              "      <td>1</td>\n",
              "      <td>Cumings, Mrs. John Bradley (Florence Briggs Th...</td>\n",
              "      <td>female</td>\n",
              "      <td>38.0</td>\n",
              "      <td>1</td>\n",
              "      <td>0</td>\n",
              "      <td>PC 17599</td>\n",
              "      <td>71.2833</td>\n",
              "      <td>C85</td>\n",
              "      <td>C</td>\n",
              "    </tr>\n",
              "    <tr>\n",
              "      <th>2</th>\n",
              "      <td>3</td>\n",
              "      <td>Heikkinen, Miss. Laina</td>\n",
              "      <td>female</td>\n",
              "      <td>26.0</td>\n",
              "      <td>0</td>\n",
              "      <td>0</td>\n",
              "      <td>STON/O2. 3101282</td>\n",
              "      <td>7.9250</td>\n",
              "      <td>NaN</td>\n",
              "      <td>S</td>\n",
              "    </tr>\n",
              "    <tr>\n",
              "      <th>3</th>\n",
              "      <td>1</td>\n",
              "      <td>Futrelle, Mrs. Jacques Heath (Lily May Peel)</td>\n",
              "      <td>female</td>\n",
              "      <td>35.0</td>\n",
              "      <td>1</td>\n",
              "      <td>0</td>\n",
              "      <td>113803</td>\n",
              "      <td>53.1000</td>\n",
              "      <td>C123</td>\n",
              "      <td>S</td>\n",
              "    </tr>\n",
              "    <tr>\n",
              "      <th>4</th>\n",
              "      <td>3</td>\n",
              "      <td>Allen, Mr. William Henry</td>\n",
              "      <td>male</td>\n",
              "      <td>35.0</td>\n",
              "      <td>0</td>\n",
              "      <td>0</td>\n",
              "      <td>373450</td>\n",
              "      <td>8.0500</td>\n",
              "      <td>NaN</td>\n",
              "      <td>S</td>\n",
              "    </tr>\n",
              "    <tr>\n",
              "      <th>...</th>\n",
              "      <td>...</td>\n",
              "      <td>...</td>\n",
              "      <td>...</td>\n",
              "      <td>...</td>\n",
              "      <td>...</td>\n",
              "      <td>...</td>\n",
              "      <td>...</td>\n",
              "      <td>...</td>\n",
              "      <td>...</td>\n",
              "      <td>...</td>\n",
              "    </tr>\n",
              "    <tr>\n",
              "      <th>1304</th>\n",
              "      <td>3</td>\n",
              "      <td>Spector, Mr. Woolf</td>\n",
              "      <td>male</td>\n",
              "      <td>NaN</td>\n",
              "      <td>0</td>\n",
              "      <td>0</td>\n",
              "      <td>A.5. 3236</td>\n",
              "      <td>8.0500</td>\n",
              "      <td>NaN</td>\n",
              "      <td>S</td>\n",
              "    </tr>\n",
              "    <tr>\n",
              "      <th>1305</th>\n",
              "      <td>1</td>\n",
              "      <td>Oliva y Ocana, Dona. Fermina</td>\n",
              "      <td>female</td>\n",
              "      <td>39.0</td>\n",
              "      <td>0</td>\n",
              "      <td>0</td>\n",
              "      <td>PC 17758</td>\n",
              "      <td>108.9000</td>\n",
              "      <td>C105</td>\n",
              "      <td>C</td>\n",
              "    </tr>\n",
              "    <tr>\n",
              "      <th>1306</th>\n",
              "      <td>3</td>\n",
              "      <td>Saether, Mr. Simon Sivertsen</td>\n",
              "      <td>male</td>\n",
              "      <td>38.5</td>\n",
              "      <td>0</td>\n",
              "      <td>0</td>\n",
              "      <td>SOTON/O.Q. 3101262</td>\n",
              "      <td>7.2500</td>\n",
              "      <td>NaN</td>\n",
              "      <td>S</td>\n",
              "    </tr>\n",
              "    <tr>\n",
              "      <th>1307</th>\n",
              "      <td>3</td>\n",
              "      <td>Ware, Mr. Frederick</td>\n",
              "      <td>male</td>\n",
              "      <td>NaN</td>\n",
              "      <td>0</td>\n",
              "      <td>0</td>\n",
              "      <td>359309</td>\n",
              "      <td>8.0500</td>\n",
              "      <td>NaN</td>\n",
              "      <td>S</td>\n",
              "    </tr>\n",
              "    <tr>\n",
              "      <th>1308</th>\n",
              "      <td>3</td>\n",
              "      <td>Peter, Master. Michael J</td>\n",
              "      <td>male</td>\n",
              "      <td>NaN</td>\n",
              "      <td>1</td>\n",
              "      <td>1</td>\n",
              "      <td>2668</td>\n",
              "      <td>22.3583</td>\n",
              "      <td>NaN</td>\n",
              "      <td>C</td>\n",
              "    </tr>\n",
              "  </tbody>\n",
              "</table>\n",
              "<p>1309 rows × 10 columns</p>\n",
              "</div>\n",
              "      <button class=\"colab-df-convert\" onclick=\"convertToInteractive('df-8f5f9239-46ee-40d9-bd1d-9dadf47cdf3a')\"\n",
              "              title=\"Convert this dataframe to an interactive table.\"\n",
              "              style=\"display:none;\">\n",
              "        \n",
              "  <svg xmlns=\"http://www.w3.org/2000/svg\" height=\"24px\"viewBox=\"0 0 24 24\"\n",
              "       width=\"24px\">\n",
              "    <path d=\"M0 0h24v24H0V0z\" fill=\"none\"/>\n",
              "    <path d=\"M18.56 5.44l.94 2.06.94-2.06 2.06-.94-2.06-.94-.94-2.06-.94 2.06-2.06.94zm-11 1L8.5 8.5l.94-2.06 2.06-.94-2.06-.94L8.5 2.5l-.94 2.06-2.06.94zm10 10l.94 2.06.94-2.06 2.06-.94-2.06-.94-.94-2.06-.94 2.06-2.06.94z\"/><path d=\"M17.41 7.96l-1.37-1.37c-.4-.4-.92-.59-1.43-.59-.52 0-1.04.2-1.43.59L10.3 9.45l-7.72 7.72c-.78.78-.78 2.05 0 2.83L4 21.41c.39.39.9.59 1.41.59.51 0 1.02-.2 1.41-.59l7.78-7.78 2.81-2.81c.8-.78.8-2.07 0-2.86zM5.41 20L4 18.59l7.72-7.72 1.47 1.35L5.41 20z\"/>\n",
              "  </svg>\n",
              "      </button>\n",
              "      \n",
              "  <style>\n",
              "    .colab-df-container {\n",
              "      display:flex;\n",
              "      flex-wrap:wrap;\n",
              "      gap: 12px;\n",
              "    }\n",
              "\n",
              "    .colab-df-convert {\n",
              "      background-color: #E8F0FE;\n",
              "      border: none;\n",
              "      border-radius: 50%;\n",
              "      cursor: pointer;\n",
              "      display: none;\n",
              "      fill: #1967D2;\n",
              "      height: 32px;\n",
              "      padding: 0 0 0 0;\n",
              "      width: 32px;\n",
              "    }\n",
              "\n",
              "    .colab-df-convert:hover {\n",
              "      background-color: #E2EBFA;\n",
              "      box-shadow: 0px 1px 2px rgba(60, 64, 67, 0.3), 0px 1px 3px 1px rgba(60, 64, 67, 0.15);\n",
              "      fill: #174EA6;\n",
              "    }\n",
              "\n",
              "    [theme=dark] .colab-df-convert {\n",
              "      background-color: #3B4455;\n",
              "      fill: #D2E3FC;\n",
              "    }\n",
              "\n",
              "    [theme=dark] .colab-df-convert:hover {\n",
              "      background-color: #434B5C;\n",
              "      box-shadow: 0px 1px 3px 1px rgba(0, 0, 0, 0.15);\n",
              "      filter: drop-shadow(0px 1px 2px rgba(0, 0, 0, 0.3));\n",
              "      fill: #FFFFFF;\n",
              "    }\n",
              "  </style>\n",
              "\n",
              "      <script>\n",
              "        const buttonEl =\n",
              "          document.querySelector('#df-8f5f9239-46ee-40d9-bd1d-9dadf47cdf3a button.colab-df-convert');\n",
              "        buttonEl.style.display =\n",
              "          google.colab.kernel.accessAllowed ? 'block' : 'none';\n",
              "\n",
              "        async function convertToInteractive(key) {\n",
              "          const element = document.querySelector('#df-8f5f9239-46ee-40d9-bd1d-9dadf47cdf3a');\n",
              "          const dataTable =\n",
              "            await google.colab.kernel.invokeFunction('convertToInteractive',\n",
              "                                                     [key], {});\n",
              "          if (!dataTable) return;\n",
              "\n",
              "          const docLinkHtml = 'Like what you see? Visit the ' +\n",
              "            '<a target=\"_blank\" href=https://colab.research.google.com/notebooks/data_table.ipynb>data table notebook</a>'\n",
              "            + ' to learn more about interactive tables.';\n",
              "          element.innerHTML = '';\n",
              "          dataTable['output_type'] = 'display_data';\n",
              "          await google.colab.output.renderOutput(dataTable, element);\n",
              "          const docLink = document.createElement('div');\n",
              "          docLink.innerHTML = docLinkHtml;\n",
              "          element.appendChild(docLink);\n",
              "        }\n",
              "      </script>\n",
              "    </div>\n",
              "  </div>\n",
              "  "
            ]
          },
          "metadata": {},
          "execution_count": 79
        }
      ]
    },
    {
      "cell_type": "code",
      "source": [
        "#        ↓看一下有沒有缺值,再用sum加總(axis=0)\n",
        "s = combine.isna().sum()\n",
        "# 將不是0的篩選掉並用降續排列\n",
        "s[s > 0].sort_values(ascending=False)"
      ],
      "metadata": {
        "colab": {
          "base_uri": "https://localhost:8080/"
        },
        "id": "tUadLUrNvdQT",
        "outputId": "628e1fc0-90a7-435a-8341-c429b161b729"
      },
      "execution_count": null,
      "outputs": [
        {
          "output_type": "execute_result",
          "data": {
            "text/plain": [
              "Cabin       1014\n",
              "Age          263\n",
              "Embarked       2\n",
              "Fare           1\n",
              "dtype: int64"
            ]
          },
          "metadata": {},
          "execution_count": 80
        }
      ]
    },
    {
      "cell_type": "code",
      "source": [
        "# ↑程式碼解說：Series的篩選操作 Series[[跟妳資料筆數一樣多的True/False]]\n",
        "s = pd.Series([-1, 2, 3])\n",
        "\n",
        "# 寫法1\n",
        "s[[False, True, False]]\n",
        "# 寫法2\n",
        "s[s >= 0]\n",
        "# 寫法3\n",
        "s[s.apply(lambda x:x>=0)]"
      ],
      "metadata": {
        "id": "h0w1JWxpvxW8",
        "colab": {
          "base_uri": "https://localhost:8080/"
        },
        "outputId": "156d8e8b-a0b0-4559-b2d0-97e1f3a0e45a"
      },
      "execution_count": null,
      "outputs": [
        {
          "output_type": "execute_result",
          "data": {
            "text/plain": [
              "1    2\n",
              "2    3\n",
              "dtype: int64"
            ]
          },
          "metadata": {},
          "execution_count": 81
        }
      ]
    },
    {
      "cell_type": "code",
      "source": [
        "# 處理Cabin資料(詳見下方資料預處理說明)\n",
        "def cabin(c):\n",
        "  if not pd.isna(c):\n",
        "    return c[0]\n",
        "  else:\n",
        "    return None\n",
        "\n",
        "combine[\"Cabin\"] = combine[\"Cabin\"].apply(cabin)\n",
        "combine[\"Cabin\"]"
      ],
      "metadata": {
        "id": "lm2Jze8frbiH",
        "colab": {
          "base_uri": "https://localhost:8080/"
        },
        "outputId": "17f5e009-cdd3-4654-8ab1-d963de109de5"
      },
      "execution_count": null,
      "outputs": [
        {
          "output_type": "execute_result",
          "data": {
            "text/plain": [
              "0       None\n",
              "1          C\n",
              "2       None\n",
              "3          C\n",
              "4       None\n",
              "        ... \n",
              "1304    None\n",
              "1305       C\n",
              "1306    None\n",
              "1307    None\n",
              "1308    None\n",
              "Name: Cabin, Length: 1309, dtype: object"
            ]
          },
          "metadata": {},
          "execution_count": 82
        }
      ]
    },
    {
      "cell_type": "code",
      "source": [
        "# 處理Name資料(詳見下方資料預處理說明)\n",
        "def name(s):\n",
        "  return s.split(\",\")[-1].split(\".\")[0].strip()\n",
        "combine[\"Name\"] = combine[\"Name\"].apply(name)"
      ],
      "metadata": {
        "id": "IcUAqSkBtl4o"
      },
      "execution_count": null,
      "outputs": []
    },
    {
      "cell_type": "code",
      "source": [
        "# 處理Ticket資料(詳見下方資料預處理說明)\n",
        "count = combine[\"Ticket\"].value_counts()\n",
        "def ticket(t):\n",
        "  if not pd.isna(t):\n",
        "    return count[t]\n",
        "  else:\n",
        "    return None\n",
        "combine[\"Ticket\"] = combine[\"Ticket\"].apply(ticket)\n",
        "combine"
      ],
      "metadata": {
        "colab": {
          "base_uri": "https://localhost:8080/",
          "height": 661
        },
        "id": "35rfTjC-yqvV",
        "outputId": "f24055bf-027d-4817-abc9-8cbbcd5f392d"
      },
      "execution_count": null,
      "outputs": [
        {
          "output_type": "stream",
          "name": "stdout",
          "text": [
            "1     713\n",
            "2     264\n",
            "3     147\n",
            "4      64\n",
            "5      35\n",
            "7      35\n",
            "6      24\n",
            "8      16\n",
            "11     11\n",
            "Name: Ticket, dtype: int64\n"
          ]
        },
        {
          "output_type": "execute_result",
          "data": {
            "text/plain": [
              "       Age  SibSp  Parch  Ticket      Fare  Name_Master  Name_Miss  Name_Mr  \\\n",
              "0     22.0      1      0     713    7.2500            0          0        1   \n",
              "1     38.0      1      0     264   71.2833            0          0        0   \n",
              "2     26.0      0      0     713    7.9250            0          1        0   \n",
              "3     35.0      1      0     264   53.1000            0          0        0   \n",
              "4     35.0      0      0     713    8.0500            0          0        1   \n",
              "...    ...    ...    ...     ...       ...          ...        ...      ...   \n",
              "1304  28.0      0      0     713    8.0500            0          0        1   \n",
              "1305  39.0      0      0     147  108.9000            0          0        0   \n",
              "1306  38.5      0      0     713    7.2500            0          0        1   \n",
              "1307  28.0      0      0     713    8.0500            0          0        1   \n",
              "1308  28.0      1      1     147   22.3583            1          0        0   \n",
              "\n",
              "      Name_Mrs  Sex_female  ...  Cabin_F  Cabin_G  Cabin_T  Embarked_C  \\\n",
              "0            0           0  ...        0        0        0           0   \n",
              "1            1           1  ...        0        0        0           1   \n",
              "2            0           1  ...        0        0        0           0   \n",
              "3            1           1  ...        0        0        0           0   \n",
              "4            0           0  ...        0        0        0           0   \n",
              "...        ...         ...  ...      ...      ...      ...         ...   \n",
              "1304         0           0  ...        0        0        0           0   \n",
              "1305         0           1  ...        0        0        0           1   \n",
              "1306         0           0  ...        0        0        0           0   \n",
              "1307         0           0  ...        0        0        0           0   \n",
              "1308         0           0  ...        0        0        0           1   \n",
              "\n",
              "      Embarked_Q  Embarked_S  Pclass_1  Pclass_2  Pclass_3  Family  \n",
              "0              0           1         0         0         1       1  \n",
              "1              0           0         1         0         0       1  \n",
              "2              0           1         0         0         1       0  \n",
              "3              0           1         1         0         0       1  \n",
              "4              0           1         0         0         1       0  \n",
              "...          ...         ...       ...       ...       ...     ...  \n",
              "1304           0           1         0         0         1       0  \n",
              "1305           0           0         1         0         0       0  \n",
              "1306           0           1         0         0         1       0  \n",
              "1307           0           1         0         0         1       0  \n",
              "1308           0           0         0         0         1       2  \n",
              "\n",
              "[1309 rows x 26 columns]"
            ],
            "text/html": [
              "\n",
              "  <div id=\"df-9e1cb92d-3053-4fed-b7b1-cbcd2ddd240e\">\n",
              "    <div class=\"colab-df-container\">\n",
              "      <div>\n",
              "<style scoped>\n",
              "    .dataframe tbody tr th:only-of-type {\n",
              "        vertical-align: middle;\n",
              "    }\n",
              "\n",
              "    .dataframe tbody tr th {\n",
              "        vertical-align: top;\n",
              "    }\n",
              "\n",
              "    .dataframe thead th {\n",
              "        text-align: right;\n",
              "    }\n",
              "</style>\n",
              "<table border=\"1\" class=\"dataframe\">\n",
              "  <thead>\n",
              "    <tr style=\"text-align: right;\">\n",
              "      <th></th>\n",
              "      <th>Age</th>\n",
              "      <th>SibSp</th>\n",
              "      <th>Parch</th>\n",
              "      <th>Ticket</th>\n",
              "      <th>Fare</th>\n",
              "      <th>Name_Master</th>\n",
              "      <th>Name_Miss</th>\n",
              "      <th>Name_Mr</th>\n",
              "      <th>Name_Mrs</th>\n",
              "      <th>Sex_female</th>\n",
              "      <th>...</th>\n",
              "      <th>Cabin_F</th>\n",
              "      <th>Cabin_G</th>\n",
              "      <th>Cabin_T</th>\n",
              "      <th>Embarked_C</th>\n",
              "      <th>Embarked_Q</th>\n",
              "      <th>Embarked_S</th>\n",
              "      <th>Pclass_1</th>\n",
              "      <th>Pclass_2</th>\n",
              "      <th>Pclass_3</th>\n",
              "      <th>Family</th>\n",
              "    </tr>\n",
              "  </thead>\n",
              "  <tbody>\n",
              "    <tr>\n",
              "      <th>0</th>\n",
              "      <td>22.0</td>\n",
              "      <td>1</td>\n",
              "      <td>0</td>\n",
              "      <td>713</td>\n",
              "      <td>7.2500</td>\n",
              "      <td>0</td>\n",
              "      <td>0</td>\n",
              "      <td>1</td>\n",
              "      <td>0</td>\n",
              "      <td>0</td>\n",
              "      <td>...</td>\n",
              "      <td>0</td>\n",
              "      <td>0</td>\n",
              "      <td>0</td>\n",
              "      <td>0</td>\n",
              "      <td>0</td>\n",
              "      <td>1</td>\n",
              "      <td>0</td>\n",
              "      <td>0</td>\n",
              "      <td>1</td>\n",
              "      <td>1</td>\n",
              "    </tr>\n",
              "    <tr>\n",
              "      <th>1</th>\n",
              "      <td>38.0</td>\n",
              "      <td>1</td>\n",
              "      <td>0</td>\n",
              "      <td>264</td>\n",
              "      <td>71.2833</td>\n",
              "      <td>0</td>\n",
              "      <td>0</td>\n",
              "      <td>0</td>\n",
              "      <td>1</td>\n",
              "      <td>1</td>\n",
              "      <td>...</td>\n",
              "      <td>0</td>\n",
              "      <td>0</td>\n",
              "      <td>0</td>\n",
              "      <td>1</td>\n",
              "      <td>0</td>\n",
              "      <td>0</td>\n",
              "      <td>1</td>\n",
              "      <td>0</td>\n",
              "      <td>0</td>\n",
              "      <td>1</td>\n",
              "    </tr>\n",
              "    <tr>\n",
              "      <th>2</th>\n",
              "      <td>26.0</td>\n",
              "      <td>0</td>\n",
              "      <td>0</td>\n",
              "      <td>713</td>\n",
              "      <td>7.9250</td>\n",
              "      <td>0</td>\n",
              "      <td>1</td>\n",
              "      <td>0</td>\n",
              "      <td>0</td>\n",
              "      <td>1</td>\n",
              "      <td>...</td>\n",
              "      <td>0</td>\n",
              "      <td>0</td>\n",
              "      <td>0</td>\n",
              "      <td>0</td>\n",
              "      <td>0</td>\n",
              "      <td>1</td>\n",
              "      <td>0</td>\n",
              "      <td>0</td>\n",
              "      <td>1</td>\n",
              "      <td>0</td>\n",
              "    </tr>\n",
              "    <tr>\n",
              "      <th>3</th>\n",
              "      <td>35.0</td>\n",
              "      <td>1</td>\n",
              "      <td>0</td>\n",
              "      <td>264</td>\n",
              "      <td>53.1000</td>\n",
              "      <td>0</td>\n",
              "      <td>0</td>\n",
              "      <td>0</td>\n",
              "      <td>1</td>\n",
              "      <td>1</td>\n",
              "      <td>...</td>\n",
              "      <td>0</td>\n",
              "      <td>0</td>\n",
              "      <td>0</td>\n",
              "      <td>0</td>\n",
              "      <td>0</td>\n",
              "      <td>1</td>\n",
              "      <td>1</td>\n",
              "      <td>0</td>\n",
              "      <td>0</td>\n",
              "      <td>1</td>\n",
              "    </tr>\n",
              "    <tr>\n",
              "      <th>4</th>\n",
              "      <td>35.0</td>\n",
              "      <td>0</td>\n",
              "      <td>0</td>\n",
              "      <td>713</td>\n",
              "      <td>8.0500</td>\n",
              "      <td>0</td>\n",
              "      <td>0</td>\n",
              "      <td>1</td>\n",
              "      <td>0</td>\n",
              "      <td>0</td>\n",
              "      <td>...</td>\n",
              "      <td>0</td>\n",
              "      <td>0</td>\n",
              "      <td>0</td>\n",
              "      <td>0</td>\n",
              "      <td>0</td>\n",
              "      <td>1</td>\n",
              "      <td>0</td>\n",
              "      <td>0</td>\n",
              "      <td>1</td>\n",
              "      <td>0</td>\n",
              "    </tr>\n",
              "    <tr>\n",
              "      <th>...</th>\n",
              "      <td>...</td>\n",
              "      <td>...</td>\n",
              "      <td>...</td>\n",
              "      <td>...</td>\n",
              "      <td>...</td>\n",
              "      <td>...</td>\n",
              "      <td>...</td>\n",
              "      <td>...</td>\n",
              "      <td>...</td>\n",
              "      <td>...</td>\n",
              "      <td>...</td>\n",
              "      <td>...</td>\n",
              "      <td>...</td>\n",
              "      <td>...</td>\n",
              "      <td>...</td>\n",
              "      <td>...</td>\n",
              "      <td>...</td>\n",
              "      <td>...</td>\n",
              "      <td>...</td>\n",
              "      <td>...</td>\n",
              "      <td>...</td>\n",
              "    </tr>\n",
              "    <tr>\n",
              "      <th>1304</th>\n",
              "      <td>28.0</td>\n",
              "      <td>0</td>\n",
              "      <td>0</td>\n",
              "      <td>713</td>\n",
              "      <td>8.0500</td>\n",
              "      <td>0</td>\n",
              "      <td>0</td>\n",
              "      <td>1</td>\n",
              "      <td>0</td>\n",
              "      <td>0</td>\n",
              "      <td>...</td>\n",
              "      <td>0</td>\n",
              "      <td>0</td>\n",
              "      <td>0</td>\n",
              "      <td>0</td>\n",
              "      <td>0</td>\n",
              "      <td>1</td>\n",
              "      <td>0</td>\n",
              "      <td>0</td>\n",
              "      <td>1</td>\n",
              "      <td>0</td>\n",
              "    </tr>\n",
              "    <tr>\n",
              "      <th>1305</th>\n",
              "      <td>39.0</td>\n",
              "      <td>0</td>\n",
              "      <td>0</td>\n",
              "      <td>147</td>\n",
              "      <td>108.9000</td>\n",
              "      <td>0</td>\n",
              "      <td>0</td>\n",
              "      <td>0</td>\n",
              "      <td>0</td>\n",
              "      <td>1</td>\n",
              "      <td>...</td>\n",
              "      <td>0</td>\n",
              "      <td>0</td>\n",
              "      <td>0</td>\n",
              "      <td>1</td>\n",
              "      <td>0</td>\n",
              "      <td>0</td>\n",
              "      <td>1</td>\n",
              "      <td>0</td>\n",
              "      <td>0</td>\n",
              "      <td>0</td>\n",
              "    </tr>\n",
              "    <tr>\n",
              "      <th>1306</th>\n",
              "      <td>38.5</td>\n",
              "      <td>0</td>\n",
              "      <td>0</td>\n",
              "      <td>713</td>\n",
              "      <td>7.2500</td>\n",
              "      <td>0</td>\n",
              "      <td>0</td>\n",
              "      <td>1</td>\n",
              "      <td>0</td>\n",
              "      <td>0</td>\n",
              "      <td>...</td>\n",
              "      <td>0</td>\n",
              "      <td>0</td>\n",
              "      <td>0</td>\n",
              "      <td>0</td>\n",
              "      <td>0</td>\n",
              "      <td>1</td>\n",
              "      <td>0</td>\n",
              "      <td>0</td>\n",
              "      <td>1</td>\n",
              "      <td>0</td>\n",
              "    </tr>\n",
              "    <tr>\n",
              "      <th>1307</th>\n",
              "      <td>28.0</td>\n",
              "      <td>0</td>\n",
              "      <td>0</td>\n",
              "      <td>713</td>\n",
              "      <td>8.0500</td>\n",
              "      <td>0</td>\n",
              "      <td>0</td>\n",
              "      <td>1</td>\n",
              "      <td>0</td>\n",
              "      <td>0</td>\n",
              "      <td>...</td>\n",
              "      <td>0</td>\n",
              "      <td>0</td>\n",
              "      <td>0</td>\n",
              "      <td>0</td>\n",
              "      <td>0</td>\n",
              "      <td>1</td>\n",
              "      <td>0</td>\n",
              "      <td>0</td>\n",
              "      <td>1</td>\n",
              "      <td>0</td>\n",
              "    </tr>\n",
              "    <tr>\n",
              "      <th>1308</th>\n",
              "      <td>28.0</td>\n",
              "      <td>1</td>\n",
              "      <td>1</td>\n",
              "      <td>147</td>\n",
              "      <td>22.3583</td>\n",
              "      <td>1</td>\n",
              "      <td>0</td>\n",
              "      <td>0</td>\n",
              "      <td>0</td>\n",
              "      <td>0</td>\n",
              "      <td>...</td>\n",
              "      <td>0</td>\n",
              "      <td>0</td>\n",
              "      <td>0</td>\n",
              "      <td>1</td>\n",
              "      <td>0</td>\n",
              "      <td>0</td>\n",
              "      <td>0</td>\n",
              "      <td>0</td>\n",
              "      <td>1</td>\n",
              "      <td>2</td>\n",
              "    </tr>\n",
              "  </tbody>\n",
              "</table>\n",
              "<p>1309 rows × 26 columns</p>\n",
              "</div>\n",
              "      <button class=\"colab-df-convert\" onclick=\"convertToInteractive('df-9e1cb92d-3053-4fed-b7b1-cbcd2ddd240e')\"\n",
              "              title=\"Convert this dataframe to an interactive table.\"\n",
              "              style=\"display:none;\">\n",
              "        \n",
              "  <svg xmlns=\"http://www.w3.org/2000/svg\" height=\"24px\"viewBox=\"0 0 24 24\"\n",
              "       width=\"24px\">\n",
              "    <path d=\"M0 0h24v24H0V0z\" fill=\"none\"/>\n",
              "    <path d=\"M18.56 5.44l.94 2.06.94-2.06 2.06-.94-2.06-.94-.94-2.06-.94 2.06-2.06.94zm-11 1L8.5 8.5l.94-2.06 2.06-.94-2.06-.94L8.5 2.5l-.94 2.06-2.06.94zm10 10l.94 2.06.94-2.06 2.06-.94-2.06-.94-.94-2.06-.94 2.06-2.06.94z\"/><path d=\"M17.41 7.96l-1.37-1.37c-.4-.4-.92-.59-1.43-.59-.52 0-1.04.2-1.43.59L10.3 9.45l-7.72 7.72c-.78.78-.78 2.05 0 2.83L4 21.41c.39.39.9.59 1.41.59.51 0 1.02-.2 1.41-.59l7.78-7.78 2.81-2.81c.8-.78.8-2.07 0-2.86zM5.41 20L4 18.59l7.72-7.72 1.47 1.35L5.41 20z\"/>\n",
              "  </svg>\n",
              "      </button>\n",
              "      \n",
              "  <style>\n",
              "    .colab-df-container {\n",
              "      display:flex;\n",
              "      flex-wrap:wrap;\n",
              "      gap: 12px;\n",
              "    }\n",
              "\n",
              "    .colab-df-convert {\n",
              "      background-color: #E8F0FE;\n",
              "      border: none;\n",
              "      border-radius: 50%;\n",
              "      cursor: pointer;\n",
              "      display: none;\n",
              "      fill: #1967D2;\n",
              "      height: 32px;\n",
              "      padding: 0 0 0 0;\n",
              "      width: 32px;\n",
              "    }\n",
              "\n",
              "    .colab-df-convert:hover {\n",
              "      background-color: #E2EBFA;\n",
              "      box-shadow: 0px 1px 2px rgba(60, 64, 67, 0.3), 0px 1px 3px 1px rgba(60, 64, 67, 0.15);\n",
              "      fill: #174EA6;\n",
              "    }\n",
              "\n",
              "    [theme=dark] .colab-df-convert {\n",
              "      background-color: #3B4455;\n",
              "      fill: #D2E3FC;\n",
              "    }\n",
              "\n",
              "    [theme=dark] .colab-df-convert:hover {\n",
              "      background-color: #434B5C;\n",
              "      box-shadow: 0px 1px 3px 1px rgba(0, 0, 0, 0.15);\n",
              "      filter: drop-shadow(0px 1px 2px rgba(0, 0, 0, 0.3));\n",
              "      fill: #FFFFFF;\n",
              "    }\n",
              "  </style>\n",
              "\n",
              "      <script>\n",
              "        const buttonEl =\n",
              "          document.querySelector('#df-9e1cb92d-3053-4fed-b7b1-cbcd2ddd240e button.colab-df-convert');\n",
              "        buttonEl.style.display =\n",
              "          google.colab.kernel.accessAllowed ? 'block' : 'none';\n",
              "\n",
              "        async function convertToInteractive(key) {\n",
              "          const element = document.querySelector('#df-9e1cb92d-3053-4fed-b7b1-cbcd2ddd240e');\n",
              "          const dataTable =\n",
              "            await google.colab.kernel.invokeFunction('convertToInteractive',\n",
              "                                                     [key], {});\n",
              "          if (!dataTable) return;\n",
              "\n",
              "          const docLinkHtml = 'Like what you see? Visit the ' +\n",
              "            '<a target=\"_blank\" href=https://colab.research.google.com/notebooks/data_table.ipynb>data table notebook</a>'\n",
              "            + ' to learn more about interactive tables.';\n",
              "          element.innerHTML = '';\n",
              "          dataTable['output_type'] = 'display_data';\n",
              "          await google.colab.output.renderOutput(dataTable, element);\n",
              "          const docLink = document.createElement('div');\n",
              "          docLink.innerHTML = docLinkHtml;\n",
              "          element.appendChild(docLink);\n",
              "        }\n",
              "      </script>\n",
              "    </div>\n",
              "  </div>\n",
              "  "
            ]
          },
          "metadata": {},
          "execution_count": 108
        }
      ]
    },
    {
      "cell_type": "code",
      "source": [
        "# 資料預處理\n",
        "# 1把空的資料填上\n",
        "  # 欄位分成兩種: \n",
        "  # a. 類別: 只有固定數種的\n",
        "  # Pclass, Name(mid,稱謂有可能影響), Sex, Cabin(first,船艙內位置有可能影響), Embarked\n",
        "  # b. 數值: 大小關係, 無限可能\n",
        "  # Age, SibSp, Parch, Ticket(count,票號有可能顯示和誰一起上船有可能是沒有血緣關係的朋友), Fare\n",
        "  # 補準則: 補最可能的\n",
        "  # a. 類別: 最常出現的\n",
        "  # b. 數值(中庸值): 中位數"
      ],
      "metadata": {
        "id": "RJserkm2w6jU"
      },
      "execution_count": null,
      "outputs": []
    },
    {
      "cell_type": "code",
      "source": [
        "\n",
        "most = combine[\"Embarked\"].value_counts().idxmax()\n",
        "combine[\"Embarked\"] = combine[\"Embarked\"].fillna(most)"
      ],
      "metadata": {
        "id": "lOAADmL_0RO_"
      },
      "execution_count": null,
      "outputs": []
    },
    {
      "cell_type": "code",
      "source": [
        "# df.fillna({\"欄位名稱\":要填的值}) <- DataFrame的fillna可以直接字典,他會全部幫你補上\n",
        "#                               ↓這是類別,不補中位數\n",
        "med = combine.median().drop(\"Pclass\")\n",
        "combine = combine.fillna(med)"
      ],
      "metadata": {
        "colab": {
          "base_uri": "https://localhost:8080/"
        },
        "id": "pGZcg8TR6yNN",
        "outputId": "6780561d-acde-46cd-f510-bfbb8ecad7ba"
      },
      "execution_count": null,
      "outputs": [
        {
          "output_type": "stream",
          "name": "stderr",
          "text": [
            "/usr/local/lib/python3.7/dist-packages/ipykernel_launcher.py:3: FutureWarning: Dropping of nuisance columns in DataFrame reductions (with 'numeric_only=None') is deprecated; in a future version this will raise TypeError.  Select only valid columns before calling the reduction.\n",
            "  This is separate from the ipykernel package so we can avoid doing imports until\n"
          ]
        }
      ]
    },
    {
      "cell_type": "code",
      "source": [
        "# 檢查缺失值填補的狀況\n",
        "s = combine.isna().sum()\n",
        "s[s > 0].sort_values(ascending=False)"
      ],
      "metadata": {
        "colab": {
          "base_uri": "https://localhost:8080/"
        },
        "id": "p1wqlwCQ0jKp",
        "outputId": "85c579aa-a0d1-4f20-956c-dd2e0e9a2672"
      },
      "execution_count": null,
      "outputs": [
        {
          "output_type": "execute_result",
          "data": {
            "text/plain": [
              "Cabin    1014\n",
              "dtype: int64"
            ]
          },
          "metadata": {},
          "execution_count": 88
        }
      ]
    },
    {
      "cell_type": "code",
      "source": [
        "# 資料預處理\n",
        "# 2. One-Hot Encoding: 多個是非題(丟到sklearn, 所有格子內東西不能是字串了)\n",
        "# NaN: 0 0 0 -> 空值可以不用補缺失, 直接用One-Hot Encoding做\n",
        "# 裡面東西很多種: 絕對要做, 沒有不做道理\n",
        "# 1. 對欄位沒處理好: 汽車型號 -> 汽車廠牌(One-Hot)/價錢/是不是休旅車/是不是跑車/幾門/有沒有天窗/馬力\n",
        "# 2. 欄位真的比較多個(Name): 直接做沒問題, 因為決策樹本來就會選擇他覺得重要的欄位\n",
        "# 我會做處理是因為 好看度/後續使用者填的時候根本不需要填\n",
        "# 所以你可以捨去出現率太過稀少的值"
      ],
      "metadata": {
        "id": "kERwLOxPCXBI"
      },
      "execution_count": null,
      "outputs": []
    },
    {
      "cell_type": "code",
      "source": [
        "# 只保留master以上, 其他當成None -> 0 0 0\n",
        "count = combine[\"Name\"].value_counts()\n",
        "reserved = count[count > 50].index\n",
        "def name2(n):\n",
        "  if n in reserved:\n",
        "    return n\n",
        "  else:\n",
        "    return None\n",
        "combine[\"Name\"] = combine[\"Name\"].apply(name2)"
      ],
      "metadata": {
        "id": "K9bRYs6nCczx"
      },
      "execution_count": null,
      "outputs": []
    },
    {
      "cell_type": "code",
      "source": [
        "# 可以不做One-Hot?\n",
        "# Pclass: 可以不做, 因為你要說他有大小關係是可以的\n",
        "# Sex: 可以不做, 因為他是二值型\n",
        "\n",
        "#              ↓系統會自行將類別去做One-Hot\n",
        "combine = pd.get_dummies(combine)\n",
        "#              ↓Pclass因為不是類別所以沒做到,特別抓出來做\n",
        "combine = pd.get_dummies(combine, columns=[\"Pclass\"])"
      ],
      "metadata": {
        "id": "kfEByNsWps0F"
      },
      "execution_count": null,
      "outputs": []
    },
    {
      "cell_type": "code",
      "source": [
        "# 3. 看一下可不可以額外萃取出資訊(覺得合理才做)\n",
        "# 我沒試過: Friend = max(0, Ticket - Family) / 船艙上中下半部 / married\n",
        "combine[\"Family\"] = combine[\"SibSp\"] + combine[\"Parch\"]"
      ],
      "metadata": {
        "id": "rHCBZgoyy_Vf"
      },
      "execution_count": null,
      "outputs": []
    },
    {
      "cell_type": "code",
      "source": [
        "import numpy as np\n",
        "x = np.array(combine.iloc[:len(datas)])\n",
        "y = np.array(datas[\"Survived\"])\n",
        "predict_x = np.array(combine.iloc[len(datas):])\n",
        "print(x.shape)\n",
        "print(y.shape)\n",
        "print(predict_x.shape)"
      ],
      "metadata": {
        "colab": {
          "base_uri": "https://localhost:8080/"
        },
        "id": "536f05JW4LAS",
        "outputId": "5eb25a70-2b73-4e2a-ab23-6f55af2423ca"
      },
      "execution_count": null,
      "outputs": [
        {
          "output_type": "stream",
          "name": "stdout",
          "text": [
            "(891, 26)\n",
            "(891,)\n",
            "(418, 26)\n"
          ]
        }
      ]
    },
    {
      "cell_type": "code",
      "source": [
        "# 讓sklearn幫你把下面那格做很多次, 找出最佳參數\n",
        "# 透過GridSearchCV進行參數的交叉比對\n",
        "from sklearn.model_selection import GridSearchCV\n",
        "from sklearn.ensemble import RandomForestClassifier\n",
        "params = {\n",
        "    \"max_depth\":range(5,11),\n",
        "    \"n_estimators\":(21, 101, 2)\n",
        "}\n",
        "clf = RandomForestClassifier()\n",
        "#                                   ↓要分成幾分做交叉驗證 \n",
        "search = GridSearchCV(clf, params, cv=10, n_jobs=-1)\n",
        "#                                             ↑決定要用來計算的核心數量(-1代表可以的全部都用)\n",
        "search.fit(x,y)\n",
        "\n",
        "print(search.best_score_)\n",
        "print(search.best_params_)"
      ],
      "metadata": {
        "colab": {
          "base_uri": "https://localhost:8080/"
        },
        "id": "bW1BrObnEI1Z",
        "outputId": "a90a1c3f-742f-4a51-f9d5-7192747f70d1"
      },
      "execution_count": null,
      "outputs": [
        {
          "output_type": "stream",
          "name": "stdout",
          "text": [
            "0.8429088639200998\n",
            "{'max_depth': 9, 'n_estimators': 21}\n"
          ]
        }
      ]
    },
    {
      "cell_type": "code",
      "source": [
        "# 交叉驗證(對樣本進行多次的tain_test_split以免取樣的誤差)＆隨機森林(進行多次的決策樹降低判斷誤差,每次只取樣本的固定比例製以求造出不同的模型觀點)\n",
        "from sklearn.model_selection import cross_val_score\n",
        "from sklearn.ensemble import RandomForestClassifier\n",
        "clf = RandomForestClassifier(n_estimators=101, max_depth=7)\n",
        "scores = cross_val_score(clf, x, y, cv=10, n_jobs=-1)\n",
        "print(scores)\n",
        "print(np.average(scores))"
      ],
      "metadata": {
        "colab": {
          "base_uri": "https://localhost:8080/"
        },
        "id": "xdTh4YLNCup0",
        "outputId": "56398830-cd65-4b8a-c27c-a8f71af7a1e4"
      },
      "execution_count": null,
      "outputs": [
        {
          "output_type": "stream",
          "name": "stdout",
          "text": [
            "[0.82222222 0.86516854 0.73033708 0.88764045 0.87640449 0.83146067\n",
            " 0.85393258 0.78651685 0.87640449 0.80898876]\n",
            "0.8339076154806492\n"
          ]
        }
      ]
    },
    {
      "cell_type": "code",
      "source": [
        "# 看隨機森林裡面的樹長怎樣\n",
        "import matplotlib.pyplot as plt\n",
        "from sklearn.tree import plot_tree\n",
        "clf = RandomForestClassifier(n_estimators=31, max_depth=7)\n",
        "clf.fit(x, y)\n",
        "plt.figure(figsize=(10, 10))\n",
        "plot_tree(clf.estimators_[0], \n",
        "     feature_names=combine.columns,\n",
        "     filled=True,\n",
        "     max_depth=2)"
      ],
      "metadata": {
        "colab": {
          "base_uri": "https://localhost:8080/",
          "height": 801
        },
        "id": "Zqx7ev9vHci-",
        "outputId": "6d2da19c-d690-4acc-ba18-4cf06ebc22ae"
      },
      "execution_count": null,
      "outputs": [
        {
          "output_type": "execute_result",
          "data": {
            "text/plain": [
              "[Text(0.4230769230769231, 0.875, 'Age <= 5.5\\ngini = 0.47\\nsamples = 556\\nvalue = [554, 337]'),\n",
              " Text(0.15384615384615385, 0.625, 'Fare <= 20.167\\ngini = 0.399\\nsamples = 27\\nvalue = [11, 29]'),\n",
              " Text(0.07692307692307693, 0.375, 'gini = 0.0\\nsamples = 9\\nvalue = [0, 14]'),\n",
              " Text(0.23076923076923078, 0.375, 'Embarked_Q <= 0.5\\ngini = 0.488\\nsamples = 18\\nvalue = [11, 15]'),\n",
              " Text(0.15384615384615385, 0.125, '\\n  (...)  \\n'),\n",
              " Text(0.3076923076923077, 0.125, '\\n  (...)  \\n'),\n",
              " Text(0.6923076923076923, 0.625, 'Sex_male <= 0.5\\ngini = 0.462\\nsamples = 529\\nvalue = [543, 308]'),\n",
              " Text(0.5384615384615384, 0.375, 'Pclass_1 <= 0.5\\ngini = 0.383\\nsamples = 179\\nvalue = [76, 218]'),\n",
              " Text(0.46153846153846156, 0.125, '\\n  (...)  \\n'),\n",
              " Text(0.6153846153846154, 0.125, '\\n  (...)  \\n'),\n",
              " Text(0.8461538461538461, 0.375, 'Cabin_E <= 0.5\\ngini = 0.271\\nsamples = 350\\nvalue = [467, 90]'),\n",
              " Text(0.7692307692307693, 0.125, '\\n  (...)  \\n'),\n",
              " Text(0.9230769230769231, 0.125, '\\n  (...)  \\n')]"
            ]
          },
          "metadata": {},
          "execution_count": 96
        },
        {
          "output_type": "display_data",
          "data": {
            "text/plain": [
              "<Figure size 720x720 with 1 Axes>"
            ],
            "image/png": "[encoded data removed]"
          },
          "metadata": {
            "needs_background": "light"
          }
        }
      ]
    },
    {
      "cell_type": "code",
      "source": [],
      "metadata": {
        "id": "9hFJzxSEjwq6"
      },
      "execution_count": null,
      "outputs": []
    },
    {
      "cell_type": "code",
      "source": [
        "clf = RandomForestClassifier(n_estimators=31, max_depth=7)\n",
        "clf.fit(x, y)\n",
        "pre = clf.predict(predict_x)\n",
        "result = pd.DataFrame({\n",
        "    \"PassengerId\":predict[\"PassengerId\"],\n",
        "    \"Survived\":pre\n",
        "})\n",
        "print(result)\n",
        "result.to_csv(\"rf0908.csv\", encoding=\"utf-8\", index=False)"
      ],
      "metadata": {
        "colab": {
          "base_uri": "https://localhost:8080/"
        },
        "id": "E3faHeKIKI__",
        "outputId": "50e58116-3f5d-4375-9a68-e2ab40c41aa7"
      },
      "execution_count": null,
      "outputs": [
        {
          "output_type": "stream",
          "name": "stdout",
          "text": [
            "     PassengerId  Survived\n",
            "0            892         0\n",
            "1            893         0\n",
            "2            894         0\n",
            "3            895         0\n",
            "4            896         1\n",
            "..           ...       ...\n",
            "413         1305         0\n",
            "414         1306         1\n",
            "415         1307         0\n",
            "416         1308         0\n",
            "417         1309         1\n",
            "\n",
            "[418 rows x 2 columns]\n"
          ]
        }
      ]
    },
    {
      "cell_type": "code",
      "source": [
        "# 另外一種演算法 -> knn(尋找離預測點最近的K個點來推測答案) -> 為避免資料的數值大小差異過大所以需要先做scaling\n",
        "from sklearn.preprocessing import MinMaxScaler\n",
        "# 先設定最大最小值的範圍(預設為0,1)\n",
        "print(combine)\n",
        "scaler = MinMaxScaler()\n",
        "combine_scale = scaler.fit_transform(combine)"
      ],
      "metadata": {
        "colab": {
          "base_uri": "https://localhost:8080/"
        },
        "id": "MfHc8bxkVzeW",
        "outputId": "7a1d78e4-db2b-4e46-b1e5-6d829df401f6"
      },
      "execution_count": null,
      "outputs": [
        {
          "output_type": "stream",
          "name": "stdout",
          "text": [
            "       Age  SibSp  Parch  Ticket      Fare  Name_Master  Name_Miss  Name_Mr  \\\n",
            "0     22.0      1      0       1    7.2500            0          0        1   \n",
            "1     38.0      1      0       2   71.2833            0          0        0   \n",
            "2     26.0      0      0       1    7.9250            0          1        0   \n",
            "3     35.0      1      0       2   53.1000            0          0        0   \n",
            "4     35.0      0      0       1    8.0500            0          0        1   \n",
            "...    ...    ...    ...     ...       ...          ...        ...      ...   \n",
            "1304  28.0      0      0       1    8.0500            0          0        1   \n",
            "1305  39.0      0      0       3  108.9000            0          0        0   \n",
            "1306  38.5      0      0       1    7.2500            0          0        1   \n",
            "1307  28.0      0      0       1    8.0500            0          0        1   \n",
            "1308  28.0      1      1       3   22.3583            1          0        0   \n",
            "\n",
            "      Name_Mrs  Sex_female  ...  Cabin_F  Cabin_G  Cabin_T  Embarked_C  \\\n",
            "0            0           0  ...        0        0        0           0   \n",
            "1            1           1  ...        0        0        0           1   \n",
            "2            0           1  ...        0        0        0           0   \n",
            "3            1           1  ...        0        0        0           0   \n",
            "4            0           0  ...        0        0        0           0   \n",
            "...        ...         ...  ...      ...      ...      ...         ...   \n",
            "1304         0           0  ...        0        0        0           0   \n",
            "1305         0           1  ...        0        0        0           1   \n",
            "1306         0           0  ...        0        0        0           0   \n",
            "1307         0           0  ...        0        0        0           0   \n",
            "1308         0           0  ...        0        0        0           1   \n",
            "\n",
            "      Embarked_Q  Embarked_S  Pclass_1  Pclass_2  Pclass_3  Family  \n",
            "0              0           1         0         0         1       1  \n",
            "1              0           0         1         0         0       1  \n",
            "2              0           1         0         0         1       0  \n",
            "3              0           1         1         0         0       1  \n",
            "4              0           1         0         0         1       0  \n",
            "...          ...         ...       ...       ...       ...     ...  \n",
            "1304           0           1         0         0         1       0  \n",
            "1305           0           0         1         0         0       0  \n",
            "1306           0           1         0         0         1       0  \n",
            "1307           0           1         0         0         1       0  \n",
            "1308           0           0         0         0         1       2  \n",
            "\n",
            "[1309 rows x 26 columns]\n"
          ]
        }
      ]
    },
    {
      "cell_type": "code",
      "source": [
        "# np array 就不用.iloc了\n",
        "# y 本來就是0,1所以用舊的即可\n",
        "x_scale = np.array(combine_scale[:len(datas)])\n",
        "predict_x_scale = np.array(combine_scale[len(datas):])"
      ],
      "metadata": {
        "id": "StuLJoT-Xl9k"
      },
      "execution_count": null,
      "outputs": []
    },
    {
      "cell_type": "code",
      "source": [
        "# 找knn最佳參數\n",
        "from sklearn.neighbors import KNeighborsClassifier\n",
        "params = {\n",
        "    \"n_neighbors\":range(2, 200)\n",
        "}\n",
        "clf = KNeighborsClassifier()\n",
        "search = GridSearchCV(clf, params, cv=10, n_jobs=-1)\n",
        "search.fit(x_scale, y)\n",
        "print(search.best_score_)\n",
        "print(search.best_params_)"
      ],
      "metadata": {
        "colab": {
          "base_uri": "https://localhost:8080/"
        },
        "id": "DCsCvN-MYaOS",
        "outputId": "ffd08f83-3ce2-4bb5-cfd4-6937e4558bbd"
      },
      "execution_count": null,
      "outputs": [
        {
          "output_type": "stream",
          "name": "stdout",
          "text": [
            "0.832796504369538\n",
            "{'n_neighbors': 7}\n"
          ]
        }
      ]
    },
    {
      "cell_type": "code",
      "source": [
        "# 雖然上面找的是7, 但老師試過 11->best\n",
        "clf = KNeighborsClassifier(n_neighbors=7)\n",
        "clf.fit(x_scale, y)\n",
        "pre = clf.predict(predict_x_scale)\n",
        "rersult = pd.DataFrame({\n",
        "    \"PassengerId\":predict[\"PassengerId\"],\n",
        "    \"Survived\":pre\n",
        "})\n",
        "result.to_csv(\"knn0908.csv\", encoding=\"utf-8\", index=False)\n",
        "result"
      ],
      "metadata": {
        "colab": {
          "base_uri": "https://localhost:8080/",
          "height": 424
        },
        "id": "CgNOXlMsaPqX",
        "outputId": "36155124-b395-4a08-83df-4bdbe2a093ac"
      },
      "execution_count": null,
      "outputs": [
        {
          "output_type": "execute_result",
          "data": {
            "text/plain": [
              "     PassengerId  Survived\n",
              "0            892         0\n",
              "1            893         0\n",
              "2            894         0\n",
              "3            895         0\n",
              "4            896         1\n",
              "..           ...       ...\n",
              "413         1305         0\n",
              "414         1306         1\n",
              "415         1307         0\n",
              "416         1308         0\n",
              "417         1309         1\n",
              "\n",
              "[418 rows x 2 columns]"
            ],
            "text/html": [
              "\n",
              "  <div id=\"df-e7049b39-ea82-46fa-8d1a-db09b1456a3c\">\n",
              "    <div class=\"colab-df-container\">\n",
              "      <div>\n",
              "<style scoped>\n",
              "    .dataframe tbody tr th:only-of-type {\n",
              "        vertical-align: middle;\n",
              "    }\n",
              "\n",
              "    .dataframe tbody tr th {\n",
              "        vertical-align: top;\n",
              "    }\n",
              "\n",
              "    .dataframe thead th {\n",
              "        text-align: right;\n",
              "    }\n",
              "</style>\n",
              "<table border=\"1\" class=\"dataframe\">\n",
              "  <thead>\n",
              "    <tr style=\"text-align: right;\">\n",
              "      <th></th>\n",
              "      <th>PassengerId</th>\n",
              "      <th>Survived</th>\n",
              "    </tr>\n",
              "  </thead>\n",
              "  <tbody>\n",
              "    <tr>\n",
              "      <th>0</th>\n",
              "      <td>892</td>\n",
              "      <td>0</td>\n",
              "    </tr>\n",
              "    <tr>\n",
              "      <th>1</th>\n",
              "      <td>893</td>\n",
              "      <td>0</td>\n",
              "    </tr>\n",
              "    <tr>\n",
              "      <th>2</th>\n",
              "      <td>894</td>\n",
              "      <td>0</td>\n",
              "    </tr>\n",
              "    <tr>\n",
              "      <th>3</th>\n",
              "      <td>895</td>\n",
              "      <td>0</td>\n",
              "    </tr>\n",
              "    <tr>\n",
              "      <th>4</th>\n",
              "      <td>896</td>\n",
              "      <td>1</td>\n",
              "    </tr>\n",
              "    <tr>\n",
              "      <th>...</th>\n",
              "      <td>...</td>\n",
              "      <td>...</td>\n",
              "    </tr>\n",
              "    <tr>\n",
              "      <th>413</th>\n",
              "      <td>1305</td>\n",
              "      <td>0</td>\n",
              "    </tr>\n",
              "    <tr>\n",
              "      <th>414</th>\n",
              "      <td>1306</td>\n",
              "      <td>1</td>\n",
              "    </tr>\n",
              "    <tr>\n",
              "      <th>415</th>\n",
              "      <td>1307</td>\n",
              "      <td>0</td>\n",
              "    </tr>\n",
              "    <tr>\n",
              "      <th>416</th>\n",
              "      <td>1308</td>\n",
              "      <td>0</td>\n",
              "    </tr>\n",
              "    <tr>\n",
              "      <th>417</th>\n",
              "      <td>1309</td>\n",
              "      <td>1</td>\n",
              "    </tr>\n",
              "  </tbody>\n",
              "</table>\n",
              "<p>418 rows × 2 columns</p>\n",
              "</div>\n",
              "      <button class=\"colab-df-convert\" onclick=\"convertToInteractive('df-e7049b39-ea82-46fa-8d1a-db09b1456a3c')\"\n",
              "              title=\"Convert this dataframe to an interactive table.\"\n",
              "              style=\"display:none;\">\n",
              "        \n",
              "  <svg xmlns=\"http://www.w3.org/2000/svg\" height=\"24px\"viewBox=\"0 0 24 24\"\n",
              "       width=\"24px\">\n",
              "    <path d=\"M0 0h24v24H0V0z\" fill=\"none\"/>\n",
              "    <path d=\"M18.56 5.44l.94 2.06.94-2.06 2.06-.94-2.06-.94-.94-2.06-.94 2.06-2.06.94zm-11 1L8.5 8.5l.94-2.06 2.06-.94-2.06-.94L8.5 2.5l-.94 2.06-2.06.94zm10 10l.94 2.06.94-2.06 2.06-.94-2.06-.94-.94-2.06-.94 2.06-2.06.94z\"/><path d=\"M17.41 7.96l-1.37-1.37c-.4-.4-.92-.59-1.43-.59-.52 0-1.04.2-1.43.59L10.3 9.45l-7.72 7.72c-.78.78-.78 2.05 0 2.83L4 21.41c.39.39.9.59 1.41.59.51 0 1.02-.2 1.41-.59l7.78-7.78 2.81-2.81c.8-.78.8-2.07 0-2.86zM5.41 20L4 18.59l7.72-7.72 1.47 1.35L5.41 20z\"/>\n",
              "  </svg>\n",
              "      </button>\n",
              "      \n",
              "  <style>\n",
              "    .colab-df-container {\n",
              "      display:flex;\n",
              "      flex-wrap:wrap;\n",
              "      gap: 12px;\n",
              "    }\n",
              "\n",
              "    .colab-df-convert {\n",
              "      background-color: #E8F0FE;\n",
              "      border: none;\n",
              "      border-radius: 50%;\n",
              "      cursor: pointer;\n",
              "      display: none;\n",
              "      fill: #1967D2;\n",
              "      height: 32px;\n",
              "      padding: 0 0 0 0;\n",
              "      width: 32px;\n",
              "    }\n",
              "\n",
              "    .colab-df-convert:hover {\n",
              "      background-color: #E2EBFA;\n",
              "      box-shadow: 0px 1px 2px rgba(60, 64, 67, 0.3), 0px 1px 3px 1px rgba(60, 64, 67, 0.15);\n",
              "      fill: #174EA6;\n",
              "    }\n",
              "\n",
              "    [theme=dark] .colab-df-convert {\n",
              "      background-color: #3B4455;\n",
              "      fill: #D2E3FC;\n",
              "    }\n",
              "\n",
              "    [theme=dark] .colab-df-convert:hover {\n",
              "      background-color: #434B5C;\n",
              "      box-shadow: 0px 1px 3px 1px rgba(0, 0, 0, 0.15);\n",
              "      filter: drop-shadow(0px 1px 2px rgba(0, 0, 0, 0.3));\n",
              "      fill: #FFFFFF;\n",
              "    }\n",
              "  </style>\n",
              "\n",
              "      <script>\n",
              "        const buttonEl =\n",
              "          document.querySelector('#df-e7049b39-ea82-46fa-8d1a-db09b1456a3c button.colab-df-convert');\n",
              "        buttonEl.style.display =\n",
              "          google.colab.kernel.accessAllowed ? 'block' : 'none';\n",
              "\n",
              "        async function convertToInteractive(key) {\n",
              "          const element = document.querySelector('#df-e7049b39-ea82-46fa-8d1a-db09b1456a3c');\n",
              "          const dataTable =\n",
              "            await google.colab.kernel.invokeFunction('convertToInteractive',\n",
              "                                                     [key], {});\n",
              "          if (!dataTable) return;\n",
              "\n",
              "          const docLinkHtml = 'Like what you see? Visit the ' +\n",
              "            '<a target=\"_blank\" href=https://colab.research.google.com/notebooks/data_table.ipynb>data table notebook</a>'\n",
              "            + ' to learn more about interactive tables.';\n",
              "          element.innerHTML = '';\n",
              "          dataTable['output_type'] = 'display_data';\n",
              "          await google.colab.output.renderOutput(dataTable, element);\n",
              "          const docLink = document.createElement('div');\n",
              "          docLink.innerHTML = docLinkHtml;\n",
              "          element.appendChild(docLink);\n",
              "        }\n",
              "      </script>\n",
              "    </div>\n",
              "  </div>\n",
              "  "
            ]
          },
          "metadata": {},
          "execution_count": 101
        }
      ]
    },
    {
      "cell_type": "code",
      "source": [
        "# 透過決策數中的feature_importances_檢視各欄位重要性\n",
        "clf = RandomForestClassifier(n_estimators=31, max_depth=7)\n",
        "clf.fit(x, y)\n",
        "pd.DataFrame({\n",
        "    \"Names\":combine.columns,\n",
        "    \"Importance\":clf.feature_importances_\n",
        "}).sort_values(by=\"Importance\", ascending=False)"
      ],
      "metadata": {
        "colab": {
          "base_uri": "https://localhost:8080/",
          "height": 865
        },
        "id": "wqpEudoXTDwS",
        "outputId": "a61ee805-a1ac-4dad-9e91-4a9d094732a1"
      },
      "execution_count": null,
      "outputs": [
        {
          "output_type": "execute_result",
          "data": {
            "text/plain": [
              "          Names  Importance\n",
              "10     Sex_male    0.141789\n",
              "7       Name_Mr    0.136486\n",
              "9    Sex_female    0.106881\n",
              "4          Fare    0.101153\n",
              "24     Pclass_3    0.086164\n",
              "0           Age    0.081628\n",
              "3        Ticket    0.061959\n",
              "6     Name_Miss    0.055027\n",
              "25       Family    0.046659\n",
              "22     Pclass_1    0.034288\n",
              "8      Name_Mrs    0.027122\n",
              "1         SibSp    0.023838\n",
              "23     Pclass_2    0.015068\n",
              "2         Parch    0.013769\n",
              "15      Cabin_E    0.013246\n",
              "5   Name_Master    0.010980\n",
              "21   Embarked_S    0.009545\n",
              "19   Embarked_C    0.007108\n",
              "20   Embarked_Q    0.006901\n",
              "14      Cabin_D    0.006598\n",
              "13      Cabin_C    0.004571\n",
              "12      Cabin_B    0.003567\n",
              "11      Cabin_A    0.003483\n",
              "17      Cabin_G    0.001165\n",
              "16      Cabin_F    0.000942\n",
              "18      Cabin_T    0.000064"
            ],
            "text/html": [
              "\n",
              "  <div id=\"df-dfc70b9a-8af0-46f5-b9da-75ee9f7e3631\">\n",
              "    <div class=\"colab-df-container\">\n",
              "      <div>\n",
              "<style scoped>\n",
              "    .dataframe tbody tr th:only-of-type {\n",
              "        vertical-align: middle;\n",
              "    }\n",
              "\n",
              "    .dataframe tbody tr th {\n",
              "        vertical-align: top;\n",
              "    }\n",
              "\n",
              "    .dataframe thead th {\n",
              "        text-align: right;\n",
              "    }\n",
              "</style>\n",
              "<table border=\"1\" class=\"dataframe\">\n",
              "  <thead>\n",
              "    <tr style=\"text-align: right;\">\n",
              "      <th></th>\n",
              "      <th>Names</th>\n",
              "      <th>Importance</th>\n",
              "    </tr>\n",
              "  </thead>\n",
              "  <tbody>\n",
              "    <tr>\n",
              "      <th>10</th>\n",
              "      <td>Sex_male</td>\n",
              "      <td>0.141789</td>\n",
              "    </tr>\n",
              "    <tr>\n",
              "      <th>7</th>\n",
              "      <td>Name_Mr</td>\n",
              "      <td>0.136486</td>\n",
              "    </tr>\n",
              "    <tr>\n",
              "      <th>9</th>\n",
              "      <td>Sex_female</td>\n",
              "      <td>0.106881</td>\n",
              "    </tr>\n",
              "    <tr>\n",
              "      <th>4</th>\n",
              "      <td>Fare</td>\n",
              "      <td>0.101153</td>\n",
              "    </tr>\n",
              "    <tr>\n",
              "      <th>24</th>\n",
              "      <td>Pclass_3</td>\n",
              "      <td>0.086164</td>\n",
              "    </tr>\n",
              "    <tr>\n",
              "      <th>0</th>\n",
              "      <td>Age</td>\n",
              "      <td>0.081628</td>\n",
              "    </tr>\n",
              "    <tr>\n",
              "      <th>3</th>\n",
              "      <td>Ticket</td>\n",
              "      <td>0.061959</td>\n",
              "    </tr>\n",
              "    <tr>\n",
              "      <th>6</th>\n",
              "      <td>Name_Miss</td>\n",
              "      <td>0.055027</td>\n",
              "    </tr>\n",
              "    <tr>\n",
              "      <th>25</th>\n",
              "      <td>Family</td>\n",
              "      <td>0.046659</td>\n",
              "    </tr>\n",
              "    <tr>\n",
              "      <th>22</th>\n",
              "      <td>Pclass_1</td>\n",
              "      <td>0.034288</td>\n",
              "    </tr>\n",
              "    <tr>\n",
              "      <th>8</th>\n",
              "      <td>Name_Mrs</td>\n",
              "      <td>0.027122</td>\n",
              "    </tr>\n",
              "    <tr>\n",
              "      <th>1</th>\n",
              "      <td>SibSp</td>\n",
              "      <td>0.023838</td>\n",
              "    </tr>\n",
              "    <tr>\n",
              "      <th>23</th>\n",
              "      <td>Pclass_2</td>\n",
              "      <td>0.015068</td>\n",
              "    </tr>\n",
              "    <tr>\n",
              "      <th>2</th>\n",
              "      <td>Parch</td>\n",
              "      <td>0.013769</td>\n",
              "    </tr>\n",
              "    <tr>\n",
              "      <th>15</th>\n",
              "      <td>Cabin_E</td>\n",
              "      <td>0.013246</td>\n",
              "    </tr>\n",
              "    <tr>\n",
              "      <th>5</th>\n",
              "      <td>Name_Master</td>\n",
              "      <td>0.010980</td>\n",
              "    </tr>\n",
              "    <tr>\n",
              "      <th>21</th>\n",
              "      <td>Embarked_S</td>\n",
              "      <td>0.009545</td>\n",
              "    </tr>\n",
              "    <tr>\n",
              "      <th>19</th>\n",
              "      <td>Embarked_C</td>\n",
              "      <td>0.007108</td>\n",
              "    </tr>\n",
              "    <tr>\n",
              "      <th>20</th>\n",
              "      <td>Embarked_Q</td>\n",
              "      <td>0.006901</td>\n",
              "    </tr>\n",
              "    <tr>\n",
              "      <th>14</th>\n",
              "      <td>Cabin_D</td>\n",
              "      <td>0.006598</td>\n",
              "    </tr>\n",
              "    <tr>\n",
              "      <th>13</th>\n",
              "      <td>Cabin_C</td>\n",
              "      <td>0.004571</td>\n",
              "    </tr>\n",
              "    <tr>\n",
              "      <th>12</th>\n",
              "      <td>Cabin_B</td>\n",
              "      <td>0.003567</td>\n",
              "    </tr>\n",
              "    <tr>\n",
              "      <th>11</th>\n",
              "      <td>Cabin_A</td>\n",
              "      <td>0.003483</td>\n",
              "    </tr>\n",
              "    <tr>\n",
              "      <th>17</th>\n",
              "      <td>Cabin_G</td>\n",
              "      <td>0.001165</td>\n",
              "    </tr>\n",
              "    <tr>\n",
              "      <th>16</th>\n",
              "      <td>Cabin_F</td>\n",
              "      <td>0.000942</td>\n",
              "    </tr>\n",
              "    <tr>\n",
              "      <th>18</th>\n",
              "      <td>Cabin_T</td>\n",
              "      <td>0.000064</td>\n",
              "    </tr>\n",
              "  </tbody>\n",
              "</table>\n",
              "</div>\n",
              "      <button class=\"colab-df-convert\" onclick=\"convertToInteractive('df-dfc70b9a-8af0-46f5-b9da-75ee9f7e3631')\"\n",
              "              title=\"Convert this dataframe to an interactive table.\"\n",
              "              style=\"display:none;\">\n",
              "        \n",
              "  <svg xmlns=\"http://www.w3.org/2000/svg\" height=\"24px\"viewBox=\"0 0 24 24\"\n",
              "       width=\"24px\">\n",
              "    <path d=\"M0 0h24v24H0V0z\" fill=\"none\"/>\n",
              "    <path d=\"M18.56 5.44l.94 2.06.94-2.06 2.06-.94-2.06-.94-.94-2.06-.94 2.06-2.06.94zm-11 1L8.5 8.5l.94-2.06 2.06-.94-2.06-.94L8.5 2.5l-.94 2.06-2.06.94zm10 10l.94 2.06.94-2.06 2.06-.94-2.06-.94-.94-2.06-.94 2.06-2.06.94z\"/><path d=\"M17.41 7.96l-1.37-1.37c-.4-.4-.92-.59-1.43-.59-.52 0-1.04.2-1.43.59L10.3 9.45l-7.72 7.72c-.78.78-.78 2.05 0 2.83L4 21.41c.39.39.9.59 1.41.59.51 0 1.02-.2 1.41-.59l7.78-7.78 2.81-2.81c.8-.78.8-2.07 0-2.86zM5.41 20L4 18.59l7.72-7.72 1.47 1.35L5.41 20z\"/>\n",
              "  </svg>\n",
              "      </button>\n",
              "      \n",
              "  <style>\n",
              "    .colab-df-container {\n",
              "      display:flex;\n",
              "      flex-wrap:wrap;\n",
              "      gap: 12px;\n",
              "    }\n",
              "\n",
              "    .colab-df-convert {\n",
              "      background-color: #E8F0FE;\n",
              "      border: none;\n",
              "      border-radius: 50%;\n",
              "      cursor: pointer;\n",
              "      display: none;\n",
              "      fill: #1967D2;\n",
              "      height: 32px;\n",
              "      padding: 0 0 0 0;\n",
              "      width: 32px;\n",
              "    }\n",
              "\n",
              "    .colab-df-convert:hover {\n",
              "      background-color: #E2EBFA;\n",
              "      box-shadow: 0px 1px 2px rgba(60, 64, 67, 0.3), 0px 1px 3px 1px rgba(60, 64, 67, 0.15);\n",
              "      fill: #174EA6;\n",
              "    }\n",
              "\n",
              "    [theme=dark] .colab-df-convert {\n",
              "      background-color: #3B4455;\n",
              "      fill: #D2E3FC;\n",
              "    }\n",
              "\n",
              "    [theme=dark] .colab-df-convert:hover {\n",
              "      background-color: #434B5C;\n",
              "      box-shadow: 0px 1px 3px 1px rgba(0, 0, 0, 0.15);\n",
              "      filter: drop-shadow(0px 1px 2px rgba(0, 0, 0, 0.3));\n",
              "      fill: #FFFFFF;\n",
              "    }\n",
              "  </style>\n",
              "\n",
              "      <script>\n",
              "        const buttonEl =\n",
              "          document.querySelector('#df-dfc70b9a-8af0-46f5-b9da-75ee9f7e3631 button.colab-df-convert');\n",
              "        buttonEl.style.display =\n",
              "          google.colab.kernel.accessAllowed ? 'block' : 'none';\n",
              "\n",
              "        async function convertToInteractive(key) {\n",
              "          const element = document.querySelector('#df-dfc70b9a-8af0-46f5-b9da-75ee9f7e3631');\n",
              "          const dataTable =\n",
              "            await google.colab.kernel.invokeFunction('convertToInteractive',\n",
              "                                                     [key], {});\n",
              "          if (!dataTable) return;\n",
              "\n",
              "          const docLinkHtml = 'Like what you see? Visit the ' +\n",
              "            '<a target=\"_blank\" href=https://colab.research.google.com/notebooks/data_table.ipynb>data table notebook</a>'\n",
              "            + ' to learn more about interactive tables.';\n",
              "          element.innerHTML = '';\n",
              "          dataTable['output_type'] = 'display_data';\n",
              "          await google.colab.output.renderOutput(dataTable, element);\n",
              "          const docLink = document.createElement('div');\n",
              "          docLink.innerHTML = docLinkHtml;\n",
              "          element.appendChild(docLink);\n",
              "        }\n",
              "      </script>\n",
              "    </div>\n",
              "  </div>\n",
              "  "
            ]
          },
          "metadata": {},
          "execution_count": 102
        }
      ]
    },
    {
      "cell_type": "code",
      "source": [
        "# 針對幾個較重要的欄位來畫圖\n",
        "\n",
        "import matplotlib.pyplot as plt\n",
        "import seaborn as sns\n",
        "#             ↓x/y決定資料直或橫向 ↓要帶入表格的值\n",
        "sns.countplot(x=datas[\"Sex\"], hue=datas[\"Survived\"])"
      ],
      "metadata": {
        "colab": {
          "base_uri": "https://localhost:8080/",
          "height": 296
        },
        "id": "_RJkis6zUpjx",
        "outputId": "562c26ba-9323-47e0-dfff-1b841f43ce7c"
      },
      "execution_count": null,
      "outputs": [
        {
          "output_type": "execute_result",
          "data": {
            "text/plain": [
              "<matplotlib.axes._subplots.AxesSubplot at 0x7f8873a68a10>"
            ]
          },
          "metadata": {},
          "execution_count": 103
        },
        {
          "output_type": "display_data",
          "data": {
            "text/plain": [
              "<Figure size 432x288 with 1 Axes>"
            ],
            "image/png": "[encoded data removed]"
          },
          "metadata": {
            "needs_background": "light"
          }
        }
      ]
    },
    {
      "cell_type": "code",
      "source": [
        "from scipy.ndimage import rotate\n",
        "plt.figure(figsize=(14,10))\n",
        "# 先將資料分成一塊一塊的區間   ↓決定區間數\n",
        "c = pd.cut(datas[\"Fare\"], 10)\n",
        "sns.countplot(x=c, hue=datas[\"Survived\"])\n",
        "# ticks 刻度/legend hue的說明/title 標題/axis x,y軸\n",
        "plt.xticks(rotation=20)\n",
        "plt.legend(loc=\"upper right\")\n",
        "plt.title(\"Fare V.S. Survived\")"
      ],
      "metadata": {
        "colab": {
          "base_uri": "https://localhost:8080/",
          "height": 671
        },
        "id": "DBhxHTJ4UfZn",
        "outputId": "244ca103-c0b6-41dd-df45-6ae35480d96d"
      },
      "execution_count": null,
      "outputs": [
        {
          "output_type": "execute_result",
          "data": {
            "text/plain": [
              "Text(0.5, 1.0, 'Fare V.S. Survived')"
            ]
          },
          "metadata": {},
          "execution_count": 104
        },
        {
          "output_type": "display_data",
          "data": {
            "text/plain": [
              "<Figure size 1008x720 with 1 Axes>"
            ],
            "image/png": "[encoded data removed]"
          },
          "metadata": {
            "needs_background": "light"
          }
        }
      ]
    },
    {
      "cell_type": "code",
      "source": [
        "plt.figure(figsize=(14,10))\n",
        "c = pd.cut(datas[\"Age\"], 10)\n",
        "sns.countplot(x=c, hue=datas[\"Survived\"])\n",
        "plt.xticks(rotation=20)\n",
        "plt.legend(loc=\"upper right\")\n",
        "plt.title(\"Fare V.S. Survived\")"
      ],
      "metadata": {
        "colab": {
          "base_uri": "https://localhost:8080/",
          "height": 667
        },
        "id": "vxG0CMbAfLd2",
        "outputId": "2a097140-fd47-4953-8b34-947db97d28ab"
      },
      "execution_count": null,
      "outputs": [
        {
          "output_type": "execute_result",
          "data": {
            "text/plain": [
              "Text(0.5, 1.0, 'Fare V.S. Survived')"
            ]
          },
          "metadata": {},
          "execution_count": 105
        },
        {
          "output_type": "display_data",
          "data": {
            "text/plain": [
              "<Figure size 1008x720 with 1 Axes>"
            ],
            "image/png": "[encoded data removed]"
          },
          "metadata": {
            "needs_background": "light"
          }
        }
      ]
    },
    {
      "cell_type": "code",
      "source": [
        "# 討論2. kNN/RF\n",
        "# kNN: 局部性演算法, 優勢是啟動資料需要比較少\n",
        "# RF: 全局性演算法, 優勢如果是資料夠多的時候, 效果應該不錯\n",
        "# RF: 最大的優點是有feature_importance"
      ],
      "metadata": {
        "id": "F6uR7y73jYra"
      },
      "execution_count": null,
      "outputs": []
    },
    {
      "cell_type": "code",
      "source": [
        "# 討論3. kNN\n",
        "# 我沒有什麼去掉相關性高的欄位, Sex其實我是算了兩次(sex, mr/mrs)\n",
        "# 在實際上, 不會特別去手動去掉欄位(因為你算個三次, 又怎麼了?)"
      ],
      "metadata": {
        "id": "SUQfe9najZhV"
      },
      "execution_count": null,
      "outputs": []
    }
  ]
}